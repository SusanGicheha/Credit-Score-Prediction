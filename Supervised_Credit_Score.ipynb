{
  "cells": [
    {
      "cell_type": "markdown",
      "metadata": {
        "id": "oLJKGEjtUWPn"
      },
      "source": [
        "# **Predicting Credit Risks using Supervised Machine Learning**\n",
        "This notebook explores the use of supervised machine learning algorithms to predict whether a loan will be defaulted or paid. "
      ]
    },
    {
      "cell_type": "code",
      "execution_count": null,
      "metadata": {
        "id": "B9jKPh5fRqiq",
        "colab": {
          "base_uri": "https://localhost:8080/"
        },
        "outputId": "f414114b-67fa-4e37-80dd-194160ccb7cb"
      },
      "outputs": [
        {
          "output_type": "stream",
          "name": "stdout",
          "text": [
            "Mounted at /content/drive\n"
          ]
        }
      ],
      "source": [
        "import pandas as pd\n",
        "import numpy as np\n",
        "from google.colab import drive\n",
        "from sklearn.preprocessing import RobustScaler\n",
        "from sklearn.model_selection import train_test_split\n",
        "\n",
        "#from sklearn import metrics\n",
        "from sklearn.metrics import accuracy_score,precision_score,recall_score,confusion_matrix,precision_recall_curve,f1_score,classification_report,roc_curve,auc\n",
        "from pandas.core.indexes.base import default_index\n",
        "import matplotlib.pyplot as plt\n",
        "import seaborn as sns\n",
        "from sklearn.linear_model import LogisticRegression\n",
        "from sklearn.model_selection import GridSearchCV\n",
        "from sklearn.pipeline import make_pipeline, Pipeline\n",
        "from sklearn.model_selection import train_test_split \n",
        "from sklearn.model_selection import StratifiedKFold \n",
        "from sklearn.model_selection import GridSearchCV\n",
        "from xgboost import XGBClassifier\n",
        "from xgboost import Booster \n",
        "from imblearn.over_sampling import SMOTE\n",
        "from sklearn.feature_selection import RFECV\n",
        "from xgboost import DMatrix\n",
        "from sklearn import metrics\n",
        "import random\n",
        "from sklearn.ensemble import RandomForestClassifier\n",
        "from sklearn.tree import DecisionTreeClassifier\n",
        "drive.mount('/content/drive')\n",
        "import warnings\n",
        "warnings.filterwarnings('ignore')"
      ]
    },
    {
      "cell_type": "markdown",
      "metadata": {
        "id": "9TnxWdTNk2hb"
      },
      "source": [
        "###**Data Collection**"
      ]
    },
    {
      "cell_type": "code",
      "execution_count": null,
      "metadata": {
        "id": "kXI6_uq3czD_"
      },
      "outputs": [],
      "source": [
        "data = pd.read_csv('/content/drive/MyDrive/application_data.csv')\n",
        "data2 = pd.read_csv('/content/drive/MyDrive/age_stats_data.csv')\n",
        "df = pd.merge(data,data2, on='application_id')"
      ]
    },
    {
      "cell_type": "markdown",
      "metadata": {
        "id": "kPKZhOBZlM5n"
      },
      "source": [
        "###**Data Cleaning**"
      ]
    },
    {
      "cell_type": "code",
      "execution_count": null,
      "metadata": {
        "id": "K7ejVQG_kVtE"
      },
      "outputs": [],
      "source": [
        "#find columns with more than 80% null values\n",
        "def columns():\n",
        "  lst=[]\n",
        "  lst=df.columns\n",
        "  row=df.shape[0]\n",
        "  cols=[]\n",
        "  [cols.append(i) for i in lst if df[i].isnull().sum()/row*100 > 80 ]\n",
        "  return cols\n",
        "\n"
      ]
    },
    {
      "cell_type": "code",
      "execution_count": null,
      "metadata": {
        "id": "tckXvLkQnzl7"
      },
      "outputs": [],
      "source": [
        "df=df.drop(columns(),axis=1)"
      ]
    },
    {
      "cell_type": "code",
      "source": [
        "def drop_cols(col_names, df):\n",
        "    # input: list of column names and a dataframe\n",
        "    # output: same dataframe with columns dropped\n",
        "    df = df.drop(col_names, axis=1)\n",
        "    return df\n",
        "\n",
        "#fill in missing values\n",
        "def FillNull(df):\n",
        "    for column in df:\n",
        "        if df[column].dtype in (\"int64\", \"float64\"):\n",
        "            df[column] = df[column].fillna(0)\n",
        "        elif df[column].dtype == \"object\":\n",
        "            df[column] = df[column].fillna(df[column].mode()[0])\n",
        "    return df\n",
        "\n",
        "def ToLowerCase(df):\n",
        "    df = df.applymap(lambda s: s.lower() if type(s) == str else s)\n",
        "    return df.sample(3)"
      ],
      "metadata": {
        "id": "UOyoKrEkr8YU"
      },
      "execution_count": null,
      "outputs": []
    },
    {
      "cell_type": "code",
      "execution_count": null,
      "metadata": {
        "id": "75zPupJ0vECe"
      },
      "outputs": [],
      "source": [
        "#drop unwanted cols\n",
        "df=drop_cols(['app_count','device_price','application_id','loan_number','device','employer_name','banks_contacted','competitors_contacted','loan_senders','time_at_property','employer_name','time_at_current_address','state','bank','total_accounts','competitor_count','news_count','banking_count','time_at_employer'],df)"
      ]
    },
    {
      "cell_type": "code",
      "source": [
        "FillNull(df)"
      ],
      "metadata": {
        "colab": {
          "base_uri": "https://localhost:8080/",
          "height": 488
        },
        "id": "ZF367xX5r9vx",
        "outputId": "ba2c2f81-beef-4965-f576-94dea1a17d9a"
      },
      "execution_count": null,
      "outputs": [
        {
          "output_type": "execute_result",
          "data": {
            "text/plain": [
              "         income property_status highest_education loan_purpose marital_status  \\\n",
              "0       50000.0    Family house          Graduate      medical         Single   \n",
              "1       30000.0    Rented House         Secondary        other         Single   \n",
              "2       50000.0    Rented House          Graduate     business        Married   \n",
              "3      211000.0    Family house          Graduate      medical        Married   \n",
              "4      198000.0    Rented House          Graduate        house        Widowed   \n",
              "...         ...             ...               ...          ...            ...   \n",
              "27467   50000.0    Rented House          Graduate    education         Single   \n",
              "27468  300000.0    Rented House          Graduate      medical        Married   \n",
              "27469  106000.0    Rented House         Secondary    education        Married   \n",
              "27470  200000.0    Rented House          Graduate     business        Married   \n",
              "27471   65000.0    Rented House          Graduate     business        Married   \n",
              "\n",
              "      employment_status  gender  num_applications  open_accounts_by_date  \\\n",
              "0             Permanent    MALE               2.0                    2.0   \n",
              "1             Permanent    MALE              12.0                    1.0   \n",
              "2         Self-Employed    MALE               1.0                    0.0   \n",
              "3             Permanent  FEMALE              42.0                    4.0   \n",
              "4             Permanent    MALE               1.0                    0.0   \n",
              "...                 ...     ...               ...                    ...   \n",
              "27467           Student    MALE               7.0                    0.0   \n",
              "27468         Permanent    MALE               2.0                    4.0   \n",
              "27469         Permanent    MALE               1.0                    2.0   \n",
              "27470         Permanent    MALE               2.0                    0.0   \n",
              "27471         Permanent    MALE               0.0                    0.0   \n",
              "\n",
              "       closed_accounts_by_date  ...  max_debit  min_debit  insufficient_funds  \\\n",
              "0                          1.0  ...     3000.0       20.0                 0.0   \n",
              "1                          1.0  ...    23000.0       50.0                 0.0   \n",
              "2                          3.0  ...    92940.0       30.0                 0.0   \n",
              "3                         15.0  ...   255000.0        4.0                 0.0   \n",
              "4                          7.0  ...   100000.0        1.0                 0.0   \n",
              "...                        ...  ...        ...        ...                 ...   \n",
              "27467                      2.0  ...    31100.0       40.0                 0.0   \n",
              "27468                      0.0  ...   100000.0       10.0                 0.0   \n",
              "27469                      4.0  ...     4000.0       50.0                 0.0   \n",
              "27470                      1.0  ...  1827316.0        1.0                 0.0   \n",
              "27471                      0.0  ...        0.0        0.0                 0.0   \n",
              "\n",
              "       succesful_payments  max_succesful_loan_payment  \\\n",
              "0                     1.0                2.400000e+03   \n",
              "1                     0.0                0.000000e+00   \n",
              "2                     3.0                2.020000e+17   \n",
              "3                     3.0                1.900000e+03   \n",
              "4                     2.0                2.020000e+17   \n",
              "...                   ...                         ...   \n",
              "27467                 0.0                0.000000e+00   \n",
              "27468                 0.0                0.000000e+00   \n",
              "27469                 0.0                0.000000e+00   \n",
              "27470                 0.0                0.000000e+00   \n",
              "27471                 0.0                0.000000e+00   \n",
              "\n",
              "       min_succesful_loan_payment  unsuccesful_payments  rejected_loans  \\\n",
              "0                    2.400000e+03                   2.0             0.0   \n",
              "1                    0.000000e+00                   8.0             0.0   \n",
              "2                    2.000000e+02                   0.0             0.0   \n",
              "3                    1.900000e+03                   0.0             0.0   \n",
              "4                    2.020000e+17                   0.0             0.0   \n",
              "...                           ...                   ...             ...   \n",
              "27467                0.000000e+00                   0.0             0.0   \n",
              "27468                0.000000e+00                   0.0             0.0   \n",
              "27469                0.000000e+00                   0.0             0.0   \n",
              "27470                0.000000e+00                   0.0             0.0   \n",
              "27471                0.000000e+00                   0.0             0.0   \n",
              "\n",
              "      max_loan_amount age  \n",
              "0              1275.0  33  \n",
              "1              7026.0  24  \n",
              "2             28175.0  42  \n",
              "3             65000.0  30  \n",
              "4             18170.0  54  \n",
              "...               ...  ..  \n",
              "27467             0.0  21  \n",
              "27468             0.0  43  \n",
              "27469             0.0  43  \n",
              "27470             0.0  42  \n",
              "27471             0.0  35  \n",
              "\n",
              "[27472 rows x 37 columns]"
            ],
            "text/html": [
              "\n",
              "  <div id=\"df-46020a76-ce8e-495e-bc47-22d5afa35712\">\n",
              "    <div class=\"colab-df-container\">\n",
              "      <div>\n",
              "<style scoped>\n",
              "    .dataframe tbody tr th:only-of-type {\n",
              "        vertical-align: middle;\n",
              "    }\n",
              "\n",
              "    .dataframe tbody tr th {\n",
              "        vertical-align: top;\n",
              "    }\n",
              "\n",
              "    .dataframe thead th {\n",
              "        text-align: right;\n",
              "    }\n",
              "</style>\n",
              "<table border=\"1\" class=\"dataframe\">\n",
              "  <thead>\n",
              "    <tr style=\"text-align: right;\">\n",
              "      <th></th>\n",
              "      <th>income</th>\n",
              "      <th>property_status</th>\n",
              "      <th>highest_education</th>\n",
              "      <th>loan_purpose</th>\n",
              "      <th>marital_status</th>\n",
              "      <th>employment_status</th>\n",
              "      <th>gender</th>\n",
              "      <th>num_applications</th>\n",
              "      <th>open_accounts_by_date</th>\n",
              "      <th>closed_accounts_by_date</th>\n",
              "      <th>...</th>\n",
              "      <th>max_debit</th>\n",
              "      <th>min_debit</th>\n",
              "      <th>insufficient_funds</th>\n",
              "      <th>succesful_payments</th>\n",
              "      <th>max_succesful_loan_payment</th>\n",
              "      <th>min_succesful_loan_payment</th>\n",
              "      <th>unsuccesful_payments</th>\n",
              "      <th>rejected_loans</th>\n",
              "      <th>max_loan_amount</th>\n",
              "      <th>age</th>\n",
              "    </tr>\n",
              "  </thead>\n",
              "  <tbody>\n",
              "    <tr>\n",
              "      <th>0</th>\n",
              "      <td>50000.0</td>\n",
              "      <td>Family house</td>\n",
              "      <td>Graduate</td>\n",
              "      <td>medical</td>\n",
              "      <td>Single</td>\n",
              "      <td>Permanent</td>\n",
              "      <td>MALE</td>\n",
              "      <td>2.0</td>\n",
              "      <td>2.0</td>\n",
              "      <td>1.0</td>\n",
              "      <td>...</td>\n",
              "      <td>3000.0</td>\n",
              "      <td>20.0</td>\n",
              "      <td>0.0</td>\n",
              "      <td>1.0</td>\n",
              "      <td>2.400000e+03</td>\n",
              "      <td>2.400000e+03</td>\n",
              "      <td>2.0</td>\n",
              "      <td>0.0</td>\n",
              "      <td>1275.0</td>\n",
              "      <td>33</td>\n",
              "    </tr>\n",
              "    <tr>\n",
              "      <th>1</th>\n",
              "      <td>30000.0</td>\n",
              "      <td>Rented House</td>\n",
              "      <td>Secondary</td>\n",
              "      <td>other</td>\n",
              "      <td>Single</td>\n",
              "      <td>Permanent</td>\n",
              "      <td>MALE</td>\n",
              "      <td>12.0</td>\n",
              "      <td>1.0</td>\n",
              "      <td>1.0</td>\n",
              "      <td>...</td>\n",
              "      <td>23000.0</td>\n",
              "      <td>50.0</td>\n",
              "      <td>0.0</td>\n",
              "      <td>0.0</td>\n",
              "      <td>0.000000e+00</td>\n",
              "      <td>0.000000e+00</td>\n",
              "      <td>8.0</td>\n",
              "      <td>0.0</td>\n",
              "      <td>7026.0</td>\n",
              "      <td>24</td>\n",
              "    </tr>\n",
              "    <tr>\n",
              "      <th>2</th>\n",
              "      <td>50000.0</td>\n",
              "      <td>Rented House</td>\n",
              "      <td>Graduate</td>\n",
              "      <td>business</td>\n",
              "      <td>Married</td>\n",
              "      <td>Self-Employed</td>\n",
              "      <td>MALE</td>\n",
              "      <td>1.0</td>\n",
              "      <td>0.0</td>\n",
              "      <td>3.0</td>\n",
              "      <td>...</td>\n",
              "      <td>92940.0</td>\n",
              "      <td>30.0</td>\n",
              "      <td>0.0</td>\n",
              "      <td>3.0</td>\n",
              "      <td>2.020000e+17</td>\n",
              "      <td>2.000000e+02</td>\n",
              "      <td>0.0</td>\n",
              "      <td>0.0</td>\n",
              "      <td>28175.0</td>\n",
              "      <td>42</td>\n",
              "    </tr>\n",
              "    <tr>\n",
              "      <th>3</th>\n",
              "      <td>211000.0</td>\n",
              "      <td>Family house</td>\n",
              "      <td>Graduate</td>\n",
              "      <td>medical</td>\n",
              "      <td>Married</td>\n",
              "      <td>Permanent</td>\n",
              "      <td>FEMALE</td>\n",
              "      <td>42.0</td>\n",
              "      <td>4.0</td>\n",
              "      <td>15.0</td>\n",
              "      <td>...</td>\n",
              "      <td>255000.0</td>\n",
              "      <td>4.0</td>\n",
              "      <td>0.0</td>\n",
              "      <td>3.0</td>\n",
              "      <td>1.900000e+03</td>\n",
              "      <td>1.900000e+03</td>\n",
              "      <td>0.0</td>\n",
              "      <td>0.0</td>\n",
              "      <td>65000.0</td>\n",
              "      <td>30</td>\n",
              "    </tr>\n",
              "    <tr>\n",
              "      <th>4</th>\n",
              "      <td>198000.0</td>\n",
              "      <td>Rented House</td>\n",
              "      <td>Graduate</td>\n",
              "      <td>house</td>\n",
              "      <td>Widowed</td>\n",
              "      <td>Permanent</td>\n",
              "      <td>MALE</td>\n",
              "      <td>1.0</td>\n",
              "      <td>0.0</td>\n",
              "      <td>7.0</td>\n",
              "      <td>...</td>\n",
              "      <td>100000.0</td>\n",
              "      <td>1.0</td>\n",
              "      <td>0.0</td>\n",
              "      <td>2.0</td>\n",
              "      <td>2.020000e+17</td>\n",
              "      <td>2.020000e+17</td>\n",
              "      <td>0.0</td>\n",
              "      <td>0.0</td>\n",
              "      <td>18170.0</td>\n",
              "      <td>54</td>\n",
              "    </tr>\n",
              "    <tr>\n",
              "      <th>...</th>\n",
              "      <td>...</td>\n",
              "      <td>...</td>\n",
              "      <td>...</td>\n",
              "      <td>...</td>\n",
              "      <td>...</td>\n",
              "      <td>...</td>\n",
              "      <td>...</td>\n",
              "      <td>...</td>\n",
              "      <td>...</td>\n",
              "      <td>...</td>\n",
              "      <td>...</td>\n",
              "      <td>...</td>\n",
              "      <td>...</td>\n",
              "      <td>...</td>\n",
              "      <td>...</td>\n",
              "      <td>...</td>\n",
              "      <td>...</td>\n",
              "      <td>...</td>\n",
              "      <td>...</td>\n",
              "      <td>...</td>\n",
              "      <td>...</td>\n",
              "    </tr>\n",
              "    <tr>\n",
              "      <th>27467</th>\n",
              "      <td>50000.0</td>\n",
              "      <td>Rented House</td>\n",
              "      <td>Graduate</td>\n",
              "      <td>education</td>\n",
              "      <td>Single</td>\n",
              "      <td>Student</td>\n",
              "      <td>MALE</td>\n",
              "      <td>7.0</td>\n",
              "      <td>0.0</td>\n",
              "      <td>2.0</td>\n",
              "      <td>...</td>\n",
              "      <td>31100.0</td>\n",
              "      <td>40.0</td>\n",
              "      <td>0.0</td>\n",
              "      <td>0.0</td>\n",
              "      <td>0.000000e+00</td>\n",
              "      <td>0.000000e+00</td>\n",
              "      <td>0.0</td>\n",
              "      <td>0.0</td>\n",
              "      <td>0.0</td>\n",
              "      <td>21</td>\n",
              "    </tr>\n",
              "    <tr>\n",
              "      <th>27468</th>\n",
              "      <td>300000.0</td>\n",
              "      <td>Rented House</td>\n",
              "      <td>Graduate</td>\n",
              "      <td>medical</td>\n",
              "      <td>Married</td>\n",
              "      <td>Permanent</td>\n",
              "      <td>MALE</td>\n",
              "      <td>2.0</td>\n",
              "      <td>4.0</td>\n",
              "      <td>0.0</td>\n",
              "      <td>...</td>\n",
              "      <td>100000.0</td>\n",
              "      <td>10.0</td>\n",
              "      <td>0.0</td>\n",
              "      <td>0.0</td>\n",
              "      <td>0.000000e+00</td>\n",
              "      <td>0.000000e+00</td>\n",
              "      <td>0.0</td>\n",
              "      <td>0.0</td>\n",
              "      <td>0.0</td>\n",
              "      <td>43</td>\n",
              "    </tr>\n",
              "    <tr>\n",
              "      <th>27469</th>\n",
              "      <td>106000.0</td>\n",
              "      <td>Rented House</td>\n",
              "      <td>Secondary</td>\n",
              "      <td>education</td>\n",
              "      <td>Married</td>\n",
              "      <td>Permanent</td>\n",
              "      <td>MALE</td>\n",
              "      <td>1.0</td>\n",
              "      <td>2.0</td>\n",
              "      <td>4.0</td>\n",
              "      <td>...</td>\n",
              "      <td>4000.0</td>\n",
              "      <td>50.0</td>\n",
              "      <td>0.0</td>\n",
              "      <td>0.0</td>\n",
              "      <td>0.000000e+00</td>\n",
              "      <td>0.000000e+00</td>\n",
              "      <td>0.0</td>\n",
              "      <td>0.0</td>\n",
              "      <td>0.0</td>\n",
              "      <td>43</td>\n",
              "    </tr>\n",
              "    <tr>\n",
              "      <th>27470</th>\n",
              "      <td>200000.0</td>\n",
              "      <td>Rented House</td>\n",
              "      <td>Graduate</td>\n",
              "      <td>business</td>\n",
              "      <td>Married</td>\n",
              "      <td>Permanent</td>\n",
              "      <td>MALE</td>\n",
              "      <td>2.0</td>\n",
              "      <td>0.0</td>\n",
              "      <td>1.0</td>\n",
              "      <td>...</td>\n",
              "      <td>1827316.0</td>\n",
              "      <td>1.0</td>\n",
              "      <td>0.0</td>\n",
              "      <td>0.0</td>\n",
              "      <td>0.000000e+00</td>\n",
              "      <td>0.000000e+00</td>\n",
              "      <td>0.0</td>\n",
              "      <td>0.0</td>\n",
              "      <td>0.0</td>\n",
              "      <td>42</td>\n",
              "    </tr>\n",
              "    <tr>\n",
              "      <th>27471</th>\n",
              "      <td>65000.0</td>\n",
              "      <td>Rented House</td>\n",
              "      <td>Graduate</td>\n",
              "      <td>business</td>\n",
              "      <td>Married</td>\n",
              "      <td>Permanent</td>\n",
              "      <td>MALE</td>\n",
              "      <td>0.0</td>\n",
              "      <td>0.0</td>\n",
              "      <td>0.0</td>\n",
              "      <td>...</td>\n",
              "      <td>0.0</td>\n",
              "      <td>0.0</td>\n",
              "      <td>0.0</td>\n",
              "      <td>0.0</td>\n",
              "      <td>0.000000e+00</td>\n",
              "      <td>0.000000e+00</td>\n",
              "      <td>0.0</td>\n",
              "      <td>0.0</td>\n",
              "      <td>0.0</td>\n",
              "      <td>35</td>\n",
              "    </tr>\n",
              "  </tbody>\n",
              "</table>\n",
              "<p>27472 rows × 37 columns</p>\n",
              "</div>\n",
              "      <button class=\"colab-df-convert\" onclick=\"convertToInteractive('df-46020a76-ce8e-495e-bc47-22d5afa35712')\"\n",
              "              title=\"Convert this dataframe to an interactive table.\"\n",
              "              style=\"display:none;\">\n",
              "        \n",
              "  <svg xmlns=\"http://www.w3.org/2000/svg\" height=\"24px\"viewBox=\"0 0 24 24\"\n",
              "       width=\"24px\">\n",
              "    <path d=\"M0 0h24v24H0V0z\" fill=\"none\"/>\n",
              "    <path d=\"M18.56 5.44l.94 2.06.94-2.06 2.06-.94-2.06-.94-.94-2.06-.94 2.06-2.06.94zm-11 1L8.5 8.5l.94-2.06 2.06-.94-2.06-.94L8.5 2.5l-.94 2.06-2.06.94zm10 10l.94 2.06.94-2.06 2.06-.94-2.06-.94-.94-2.06-.94 2.06-2.06.94z\"/><path d=\"M17.41 7.96l-1.37-1.37c-.4-.4-.92-.59-1.43-.59-.52 0-1.04.2-1.43.59L10.3 9.45l-7.72 7.72c-.78.78-.78 2.05 0 2.83L4 21.41c.39.39.9.59 1.41.59.51 0 1.02-.2 1.41-.59l7.78-7.78 2.81-2.81c.8-.78.8-2.07 0-2.86zM5.41 20L4 18.59l7.72-7.72 1.47 1.35L5.41 20z\"/>\n",
              "  </svg>\n",
              "      </button>\n",
              "      \n",
              "  <style>\n",
              "    .colab-df-container {\n",
              "      display:flex;\n",
              "      flex-wrap:wrap;\n",
              "      gap: 12px;\n",
              "    }\n",
              "\n",
              "    .colab-df-convert {\n",
              "      background-color: #E8F0FE;\n",
              "      border: none;\n",
              "      border-radius: 50%;\n",
              "      cursor: pointer;\n",
              "      display: none;\n",
              "      fill: #1967D2;\n",
              "      height: 32px;\n",
              "      padding: 0 0 0 0;\n",
              "      width: 32px;\n",
              "    }\n",
              "\n",
              "    .colab-df-convert:hover {\n",
              "      background-color: #E2EBFA;\n",
              "      box-shadow: 0px 1px 2px rgba(60, 64, 67, 0.3), 0px 1px 3px 1px rgba(60, 64, 67, 0.15);\n",
              "      fill: #174EA6;\n",
              "    }\n",
              "\n",
              "    [theme=dark] .colab-df-convert {\n",
              "      background-color: #3B4455;\n",
              "      fill: #D2E3FC;\n",
              "    }\n",
              "\n",
              "    [theme=dark] .colab-df-convert:hover {\n",
              "      background-color: #434B5C;\n",
              "      box-shadow: 0px 1px 3px 1px rgba(0, 0, 0, 0.15);\n",
              "      filter: drop-shadow(0px 1px 2px rgba(0, 0, 0, 0.3));\n",
              "      fill: #FFFFFF;\n",
              "    }\n",
              "  </style>\n",
              "\n",
              "      <script>\n",
              "        const buttonEl =\n",
              "          document.querySelector('#df-46020a76-ce8e-495e-bc47-22d5afa35712 button.colab-df-convert');\n",
              "        buttonEl.style.display =\n",
              "          google.colab.kernel.accessAllowed ? 'block' : 'none';\n",
              "\n",
              "        async function convertToInteractive(key) {\n",
              "          const element = document.querySelector('#df-46020a76-ce8e-495e-bc47-22d5afa35712');\n",
              "          const dataTable =\n",
              "            await google.colab.kernel.invokeFunction('convertToInteractive',\n",
              "                                                     [key], {});\n",
              "          if (!dataTable) return;\n",
              "\n",
              "          const docLinkHtml = 'Like what you see? Visit the ' +\n",
              "            '<a target=\"_blank\" href=https://colab.research.google.com/notebooks/data_table.ipynb>data table notebook</a>'\n",
              "            + ' to learn more about interactive tables.';\n",
              "          element.innerHTML = '';\n",
              "          dataTable['output_type'] = 'display_data';\n",
              "          await google.colab.output.renderOutput(dataTable, element);\n",
              "          const docLink = document.createElement('div');\n",
              "          docLink.innerHTML = docLinkHtml;\n",
              "          element.appendChild(docLink);\n",
              "        }\n",
              "      </script>\n",
              "    </div>\n",
              "  </div>\n",
              "  "
            ]
          },
          "metadata": {},
          "execution_count": 7
        }
      ]
    },
    {
      "cell_type": "code",
      "source": [
        "ToLowerCase(df)"
      ],
      "metadata": {
        "colab": {
          "base_uri": "https://localhost:8080/",
          "height": 237
        },
        "id": "KDbM0ZUD0jDs",
        "outputId": "37fd9de0-1614-42c6-fd43-ef6910106e89"
      },
      "execution_count": null,
      "outputs": [
        {
          "output_type": "execute_result",
          "data": {
            "text/plain": [
              "        income property_status highest_education loan_purpose marital_status  \\\n",
              "11871  70000.0    rented house          graduate        other        married   \n",
              "17630  61000.0       temporary          graduate    education        married   \n",
              "14651  50000.0    family house          graduate    education         single   \n",
              "\n",
              "      employment_status gender  num_applications  open_accounts_by_date  \\\n",
              "11871         permanent   male               1.0                    0.0   \n",
              "17630         permanent   male               1.0                    2.0   \n",
              "14651           student   male               7.0                    0.0   \n",
              "\n",
              "       closed_accounts_by_date  ...  max_debit  min_debit  insufficient_funds  \\\n",
              "11871                      1.0  ...    50000.0       10.0                 0.0   \n",
              "17630                      3.0  ...    30000.0       10.0                 0.0   \n",
              "14651                      1.0  ...    28000.0        1.0                 0.0   \n",
              "\n",
              "       succesful_payments  max_succesful_loan_payment  \\\n",
              "11871                 3.0                      1900.0   \n",
              "17630                 0.0                         0.0   \n",
              "14651                 6.0                      2000.0   \n",
              "\n",
              "       min_succesful_loan_payment  unsuccesful_payments  rejected_loans  \\\n",
              "11871                      1900.0                   0.0             0.0   \n",
              "17630                         0.0                   0.0             0.0   \n",
              "14651                      2000.0                   8.0             0.0   \n",
              "\n",
              "      max_loan_amount age  \n",
              "11871             0.0  39  \n",
              "17630             0.0  38  \n",
              "14651          1150.0  36  \n",
              "\n",
              "[3 rows x 37 columns]"
            ],
            "text/html": [
              "\n",
              "  <div id=\"df-d5b7c82d-1567-4c6f-9fce-617f524069b4\">\n",
              "    <div class=\"colab-df-container\">\n",
              "      <div>\n",
              "<style scoped>\n",
              "    .dataframe tbody tr th:only-of-type {\n",
              "        vertical-align: middle;\n",
              "    }\n",
              "\n",
              "    .dataframe tbody tr th {\n",
              "        vertical-align: top;\n",
              "    }\n",
              "\n",
              "    .dataframe thead th {\n",
              "        text-align: right;\n",
              "    }\n",
              "</style>\n",
              "<table border=\"1\" class=\"dataframe\">\n",
              "  <thead>\n",
              "    <tr style=\"text-align: right;\">\n",
              "      <th></th>\n",
              "      <th>income</th>\n",
              "      <th>property_status</th>\n",
              "      <th>highest_education</th>\n",
              "      <th>loan_purpose</th>\n",
              "      <th>marital_status</th>\n",
              "      <th>employment_status</th>\n",
              "      <th>gender</th>\n",
              "      <th>num_applications</th>\n",
              "      <th>open_accounts_by_date</th>\n",
              "      <th>closed_accounts_by_date</th>\n",
              "      <th>...</th>\n",
              "      <th>max_debit</th>\n",
              "      <th>min_debit</th>\n",
              "      <th>insufficient_funds</th>\n",
              "      <th>succesful_payments</th>\n",
              "      <th>max_succesful_loan_payment</th>\n",
              "      <th>min_succesful_loan_payment</th>\n",
              "      <th>unsuccesful_payments</th>\n",
              "      <th>rejected_loans</th>\n",
              "      <th>max_loan_amount</th>\n",
              "      <th>age</th>\n",
              "    </tr>\n",
              "  </thead>\n",
              "  <tbody>\n",
              "    <tr>\n",
              "      <th>11871</th>\n",
              "      <td>70000.0</td>\n",
              "      <td>rented house</td>\n",
              "      <td>graduate</td>\n",
              "      <td>other</td>\n",
              "      <td>married</td>\n",
              "      <td>permanent</td>\n",
              "      <td>male</td>\n",
              "      <td>1.0</td>\n",
              "      <td>0.0</td>\n",
              "      <td>1.0</td>\n",
              "      <td>...</td>\n",
              "      <td>50000.0</td>\n",
              "      <td>10.0</td>\n",
              "      <td>0.0</td>\n",
              "      <td>3.0</td>\n",
              "      <td>1900.0</td>\n",
              "      <td>1900.0</td>\n",
              "      <td>0.0</td>\n",
              "      <td>0.0</td>\n",
              "      <td>0.0</td>\n",
              "      <td>39</td>\n",
              "    </tr>\n",
              "    <tr>\n",
              "      <th>17630</th>\n",
              "      <td>61000.0</td>\n",
              "      <td>temporary</td>\n",
              "      <td>graduate</td>\n",
              "      <td>education</td>\n",
              "      <td>married</td>\n",
              "      <td>permanent</td>\n",
              "      <td>male</td>\n",
              "      <td>1.0</td>\n",
              "      <td>2.0</td>\n",
              "      <td>3.0</td>\n",
              "      <td>...</td>\n",
              "      <td>30000.0</td>\n",
              "      <td>10.0</td>\n",
              "      <td>0.0</td>\n",
              "      <td>0.0</td>\n",
              "      <td>0.0</td>\n",
              "      <td>0.0</td>\n",
              "      <td>0.0</td>\n",
              "      <td>0.0</td>\n",
              "      <td>0.0</td>\n",
              "      <td>38</td>\n",
              "    </tr>\n",
              "    <tr>\n",
              "      <th>14651</th>\n",
              "      <td>50000.0</td>\n",
              "      <td>family house</td>\n",
              "      <td>graduate</td>\n",
              "      <td>education</td>\n",
              "      <td>single</td>\n",
              "      <td>student</td>\n",
              "      <td>male</td>\n",
              "      <td>7.0</td>\n",
              "      <td>0.0</td>\n",
              "      <td>1.0</td>\n",
              "      <td>...</td>\n",
              "      <td>28000.0</td>\n",
              "      <td>1.0</td>\n",
              "      <td>0.0</td>\n",
              "      <td>6.0</td>\n",
              "      <td>2000.0</td>\n",
              "      <td>2000.0</td>\n",
              "      <td>8.0</td>\n",
              "      <td>0.0</td>\n",
              "      <td>1150.0</td>\n",
              "      <td>36</td>\n",
              "    </tr>\n",
              "  </tbody>\n",
              "</table>\n",
              "<p>3 rows × 37 columns</p>\n",
              "</div>\n",
              "      <button class=\"colab-df-convert\" onclick=\"convertToInteractive('df-d5b7c82d-1567-4c6f-9fce-617f524069b4')\"\n",
              "              title=\"Convert this dataframe to an interactive table.\"\n",
              "              style=\"display:none;\">\n",
              "        \n",
              "  <svg xmlns=\"http://www.w3.org/2000/svg\" height=\"24px\"viewBox=\"0 0 24 24\"\n",
              "       width=\"24px\">\n",
              "    <path d=\"M0 0h24v24H0V0z\" fill=\"none\"/>\n",
              "    <path d=\"M18.56 5.44l.94 2.06.94-2.06 2.06-.94-2.06-.94-.94-2.06-.94 2.06-2.06.94zm-11 1L8.5 8.5l.94-2.06 2.06-.94-2.06-.94L8.5 2.5l-.94 2.06-2.06.94zm10 10l.94 2.06.94-2.06 2.06-.94-2.06-.94-.94-2.06-.94 2.06-2.06.94z\"/><path d=\"M17.41 7.96l-1.37-1.37c-.4-.4-.92-.59-1.43-.59-.52 0-1.04.2-1.43.59L10.3 9.45l-7.72 7.72c-.78.78-.78 2.05 0 2.83L4 21.41c.39.39.9.59 1.41.59.51 0 1.02-.2 1.41-.59l7.78-7.78 2.81-2.81c.8-.78.8-2.07 0-2.86zM5.41 20L4 18.59l7.72-7.72 1.47 1.35L5.41 20z\"/>\n",
              "  </svg>\n",
              "      </button>\n",
              "      \n",
              "  <style>\n",
              "    .colab-df-container {\n",
              "      display:flex;\n",
              "      flex-wrap:wrap;\n",
              "      gap: 12px;\n",
              "    }\n",
              "\n",
              "    .colab-df-convert {\n",
              "      background-color: #E8F0FE;\n",
              "      border: none;\n",
              "      border-radius: 50%;\n",
              "      cursor: pointer;\n",
              "      display: none;\n",
              "      fill: #1967D2;\n",
              "      height: 32px;\n",
              "      padding: 0 0 0 0;\n",
              "      width: 32px;\n",
              "    }\n",
              "\n",
              "    .colab-df-convert:hover {\n",
              "      background-color: #E2EBFA;\n",
              "      box-shadow: 0px 1px 2px rgba(60, 64, 67, 0.3), 0px 1px 3px 1px rgba(60, 64, 67, 0.15);\n",
              "      fill: #174EA6;\n",
              "    }\n",
              "\n",
              "    [theme=dark] .colab-df-convert {\n",
              "      background-color: #3B4455;\n",
              "      fill: #D2E3FC;\n",
              "    }\n",
              "\n",
              "    [theme=dark] .colab-df-convert:hover {\n",
              "      background-color: #434B5C;\n",
              "      box-shadow: 0px 1px 3px 1px rgba(0, 0, 0, 0.15);\n",
              "      filter: drop-shadow(0px 1px 2px rgba(0, 0, 0, 0.3));\n",
              "      fill: #FFFFFF;\n",
              "    }\n",
              "  </style>\n",
              "\n",
              "      <script>\n",
              "        const buttonEl =\n",
              "          document.querySelector('#df-d5b7c82d-1567-4c6f-9fce-617f524069b4 button.colab-df-convert');\n",
              "        buttonEl.style.display =\n",
              "          google.colab.kernel.accessAllowed ? 'block' : 'none';\n",
              "\n",
              "        async function convertToInteractive(key) {\n",
              "          const element = document.querySelector('#df-d5b7c82d-1567-4c6f-9fce-617f524069b4');\n",
              "          const dataTable =\n",
              "            await google.colab.kernel.invokeFunction('convertToInteractive',\n",
              "                                                     [key], {});\n",
              "          if (!dataTable) return;\n",
              "\n",
              "          const docLinkHtml = 'Like what you see? Visit the ' +\n",
              "            '<a target=\"_blank\" href=https://colab.research.google.com/notebooks/data_table.ipynb>data table notebook</a>'\n",
              "            + ' to learn more about interactive tables.';\n",
              "          element.innerHTML = '';\n",
              "          dataTable['output_type'] = 'display_data';\n",
              "          await google.colab.output.renderOutput(dataTable, element);\n",
              "          const docLink = document.createElement('div');\n",
              "          docLink.innerHTML = docLinkHtml;\n",
              "          element.appendChild(docLink);\n",
              "        }\n",
              "      </script>\n",
              "    </div>\n",
              "  </div>\n",
              "  "
            ]
          },
          "metadata": {},
          "execution_count": 8
        }
      ]
    },
    {
      "cell_type": "markdown",
      "metadata": {
        "id": "Ki7Ju8aJmoLS"
      },
      "source": [
        "###**Handling Outliers using IQR**"
      ]
    },
    {
      "cell_type": "code",
      "execution_count": null,
      "metadata": {
        "id": "1cdmOHkxjrrA"
      },
      "outputs": [],
      "source": [
        "def outliers(df,ft):\n",
        "  q1=df[ft].quantile(0.05)\n",
        "  q2=df[ft].quantile(0.95)\n",
        "  iqr = q2-q1\n",
        "  lower = q1 - 1.5 * iqr\n",
        "  upper = q2 + 1.5 * iqr\n",
        "  ls = df.index[ (df[ft]<lower) | (df[ft]>upper) ]\n",
        "  return ls\n",
        "  \n"
      ]
    },
    {
      "cell_type": "code",
      "execution_count": null,
      "metadata": {
        "id": "V9O_J9x53RKX"
      },
      "outputs": [],
      "source": [
        "num_data = df.select_dtypes(include=['float64','int64'])\n",
        "index_list=[]\n",
        "#extract outliers for all columns\n",
        "for feature in num_data:\n",
        "       index_list.extend(outliers(df,feature))"
      ]
    },
    {
      "cell_type": "code",
      "execution_count": null,
      "metadata": {
        "id": "vZhB33ch0iJ9"
      },
      "outputs": [],
      "source": [
        "def remove(df,ls):\n",
        "  ls = sorted(set(ls))\n",
        "  df = df.drop(ls)\n",
        "  return df\n",
        "df = remove(df,index_list)"
      ]
    },
    {
      "cell_type": "markdown",
      "metadata": {
        "id": "Z2R6Gove7--g"
      },
      "source": [
        "###**One hot encoding**"
      ]
    },
    {
      "cell_type": "markdown",
      "metadata": {
        "id": "zh8pLy66FT6Y"
      },
      "source": [
        "One-hot encoding is used to convert categorical variables into a format that can be readily used by machine learning algorithms.\n",
        "\n",
        "The basic idea of one-hot encoding is to create new variables that take on values 0 and 1 to represent the original categorical values."
      ]
    },
    {
      "cell_type": "code",
      "source": [
        "def OneHotEncoding(df, column_names):\n",
        "    df = pd.get_dummies(df, columns=column_names)\n",
        "    return df"
      ],
      "metadata": {
        "id": "P3PCAjyiydeD"
      },
      "execution_count": null,
      "outputs": []
    },
    {
      "cell_type": "code",
      "source": [
        "column_names = list(df.select_dtypes(include=['object']).columns)\n",
        "df = OneHotEncoding(df, column_names)"
      ],
      "metadata": {
        "id": "hJWrcEt13mSW"
      },
      "execution_count": null,
      "outputs": []
    },
    {
      "cell_type": "markdown",
      "metadata": {
        "id": "7RfkBsNZ8ihb"
      },
      "source": [
        "### **Scaling & Building Models**"
      ]
    },
    {
      "cell_type": "code",
      "execution_count": null,
      "metadata": {
        "id": "UTAVGU719uVk"
      },
      "outputs": [],
      "source": [
        "def split(x,y):\n",
        "    target_data = 'defaulted'\n",
        "    x = df.drop('defaulted',axis=1)\n",
        "    robust_scaler = RobustScaler()\n",
        "    x = robust_scaler.fit_transform(x) #rescales features to the same scale\n",
        "    y=df[target_data]\n",
        "    x_train, x_test, y_train, y_test = train_test_split(x, y, test_size=0.3, random_state=42)\n",
        "    return  np.array(x_train), np.array(x_test), np.array(y_train), np.array(y_test)"
      ]
    },
    {
      "cell_type": "code",
      "source": [
        "def balance_classes(x, y):\n",
        "    sm = SMOTE(random_state=2)\n",
        "    x_res, y_res = sm.fit_resample(x, y.ravel())\n",
        "    return x_res, y_res\n"
      ],
      "metadata": {
        "id": "-RvgNhKkh1B4"
      },
      "execution_count": null,
      "outputs": []
    },
    {
      "cell_type": "code",
      "source": [
        "def set_sets(x,y):\n",
        "    x_train, x_test, y_train, y_test =  split(x,y)\n",
        "    x_res, y_res = balance_classes(x_train, y_train)\n",
        "    print(\"Number rows x_train dataset: \", x_train.shape)\n",
        "    print(\"Number rows y_train dataset: \", y_train.shape)\n",
        "    print(\"Number rows x_test dataset: \", x_test.shape)\n",
        "    print(\"Number rows y_test dataset: \", y_test.shape)\n",
        "    print(\"Before OverSampling, counts of label '0': {}\".format(sum(y_train==0)))\n",
        "    print(\"Before OverSampling, counts of label '1': {}\".format(sum(y_train==1))) \n",
        "    print('After OverSampling, the shape of x_res: {}'.format(x_res.shape))\n",
        "    print('After OverSampling, the shape of y_res: {}'.format(y_res.shape))\n",
        "    print(\"After OverSampling, counts of label '0': {}\".format(sum(y_res==0)))\n",
        "    print(\"After OverSampling, counts of label '1': {}\".format(sum(y_res==1)))\n",
        "    \n",
        "    return x_res, x_test, y_res, y_test"
      ],
      "metadata": {
        "id": "R1LX_zPMh_Em"
      },
      "execution_count": null,
      "outputs": []
    },
    {
      "cell_type": "code",
      "execution_count": null,
      "metadata": {
        "id": "2PuW_Vk8AH1w"
      },
      "outputs": [],
      "source": [
        "#confusion matrix\n",
        "def cmatrix (cm,labels=['paid','default']):\n",
        "  df = pd.DataFrame(data=cm,index=labels,columns=labels)\n",
        "  plt.imshow(cm, interpolation='nearest', cmap=plt.cm.Blues)\n",
        "  plt.title('Confusion matrix')\n",
        "  plt.colorbar()\n",
        "  tick_marks = np.arange(len(labels))\n",
        "  plt.xticks(tick_marks, labels, rotation=45)\n",
        "  plt.yticks(tick_marks, labels)\n",
        "  plt.tight_layout()\n",
        "  plt.ylabel('True label')\n",
        "  plt.xlabel('Predicted label')\n",
        "  plt.show()\n",
        "  return df\n",
        " "
      ]
    },
    {
      "cell_type": "markdown",
      "metadata": {
        "id": "YnGvJBl3yNjE"
      },
      "source": [
        "### **Oversampling**"
      ]
    },
    {
      "cell_type": "markdown",
      "metadata": {
        "id": "1qAOQULfySry"
      },
      "source": [
        "Target class is imbalanced as seen below"
      ]
    },
    {
      "cell_type": "code",
      "execution_count": null,
      "metadata": {
        "colab": {
          "base_uri": "https://localhost:8080/",
          "height": 304
        },
        "id": "9bjoy86QyRkD",
        "outputId": "1c50acd1-9c3c-4bc7-8733-33c1bb09bf31"
      },
      "outputs": [
        {
          "output_type": "execute_result",
          "data": {
            "text/plain": [
              "<matplotlib.axes._subplots.AxesSubplot at 0x7fcb9fd3e5d0>"
            ]
          },
          "metadata": {},
          "execution_count": 18
        },
        {
          "output_type": "display_data",
          "data": {
            "text/plain": [
              "<Figure size 432x288 with 1 Axes>"
            ],
            "image/png": "[encoded data removed]"
          },
          "metadata": {
            "needs_background": "light"
          }
        }
      ],
      "source": [
        "value_counts = df[\"defaulted\"].value_counts()\n",
        "value_counts.plot(kind=\"bar\", title=\"Class distribution of the target variable\")"
      ]
    },
    {
      "cell_type": "code",
      "source": [
        "x_res, x_test, y_res, y_test = set_sets(df, df['defaulted'])"
      ],
      "metadata": {
        "colab": {
          "base_uri": "https://localhost:8080/"
        },
        "id": "SnXnJ4yWkIkE",
        "outputId": "802f2d4b-90b4-4952-94c0-fd676ba8f203"
      },
      "execution_count": null,
      "outputs": [
        {
          "output_type": "stream",
          "name": "stdout",
          "text": [
            "Number rows x_train dataset:  (13139, 83)\n",
            "Number rows y_train dataset:  (13139,)\n",
            "Number rows x_test dataset:  (5631, 83)\n",
            "Number rows y_test dataset:  (5631,)\n",
            "Before OverSampling, counts of label '0': 10440\n",
            "Before OverSampling, counts of label '1': 2699\n",
            "After OverSampling, the shape of x_res: (20880, 83)\n",
            "After OverSampling, the shape of y_res: (20880,)\n",
            "After OverSampling, counts of label '0': 10440\n",
            "After OverSampling, counts of label '1': 10440\n"
          ]
        }
      ]
    },
    {
      "cell_type": "markdown",
      "metadata": {
        "id": "e07xw2PgDc2Q"
      },
      "source": [
        "###**Logistic Regression**"
      ]
    },
    {
      "cell_type": "code",
      "source": [
        "\n",
        "def Performance(Model,y,x):\n",
        "    target_names = ['paid', 'defaulted']\n",
        "    # Perforamnce of the model\n",
        "    print(\"Accuracy\")\n",
        "    print(accuracy_score(y,Model.predict(x).round()).round(4))\n",
        "    print(\" \")\n",
        "    \n",
        "    print('Classification Report:')\n",
        "    print(classification_report(y,Model.predict(x).round()))\n",
        "    print(\" \")\n",
        "    \n",
        "    # print('Confusion Matrix')\n",
        "    # cm = confusion_matrix(y,Model.predict(x).round())\n",
        "    # cmatrix(cm)\n",
        "    \n",
        "    fpr, tpr, _ = roc_curve(y,Model.predict(x))\n",
        "    AUC  = auc(fpr, tpr)\n",
        "    print ('the AUC is : %0.2f' %  AUC)\n",
        "    plt.figure()\n",
        "    plt.plot(fpr, tpr, label='ROC curve (area = %0.2f)' % AUC)\n",
        "    plt.plot([0, 1], [0, 1], 'k--')\n",
        "    plt.xlim([0.0, 1.0])\n",
        "    plt.ylim([0.0, 1.05])\n",
        "    plt.xlabel('False Positive Rate')\n",
        "    plt.ylabel('True Positive Rate')\n",
        "    plt.title('ROC Curve')\n",
        "    plt.legend(loc=\"lower right\")\n",
        "    plt.show()"
      ],
      "metadata": {
        "id": "AwtBW-2wL2Po"
      },
      "execution_count": null,
      "outputs": []
    },
    {
      "cell_type": "code",
      "source": [
        "lr_grid = {    \n",
        "            \"dual\" : [False],\n",
        "            \"max_iter\" : [5000],\n",
        "}\n",
        "\n",
        "def build_lr_classifier(grid, cv, y, x):\n",
        "    lr=LogisticRegression()\n",
        "    grid_search = GridSearchCV(lr, grid, n_jobs=-1, cv=cv, verbose=10,scoring='roc_auc')\n",
        "    grid_search.fit(x,y)\n",
        "    return grid_search\n",
        "    \n",
        "lr_model = build_lr_classifier(lr_grid,5,y_res, x_res)"
      ],
      "metadata": {
        "colab": {
          "base_uri": "https://localhost:8080/"
        },
        "id": "89CmbIQ6NFS3",
        "outputId": "745efebf-a49e-4c0d-f30d-82f92b9e11c2"
      },
      "execution_count": null,
      "outputs": [
        {
          "output_type": "stream",
          "name": "stdout",
          "text": [
            "Fitting 5 folds for each of 1 candidates, totalling 5 fits\n"
          ]
        }
      ]
    },
    {
      "cell_type": "code",
      "source": [
        "print(\"The training performance of the model\")\n",
        "Performance(Model=lr_model,y=y_res,x=x_res)\n"
      ],
      "metadata": {
        "id": "VV09jq9jN9hF",
        "colab": {
          "base_uri": "https://localhost:8080/",
          "height": 573
        },
        "outputId": "efe55c6a-2a0f-49d9-8ec6-5f0c6edd7ae4"
      },
      "execution_count": null,
      "outputs": [
        {
          "output_type": "stream",
          "name": "stdout",
          "text": [
            "The training performance of the model\n",
            "Accuracy\n",
            "0.6244\n",
            " \n",
            "Classification Report:\n",
            "              precision    recall  f1-score   support\n",
            "\n",
            "         0.0       0.63      0.59      0.61     10440\n",
            "         1.0       0.62      0.66      0.64     10440\n",
            "\n",
            "    accuracy                           0.62     20880\n",
            "   macro avg       0.63      0.62      0.62     20880\n",
            "weighted avg       0.63      0.62      0.62     20880\n",
            "\n",
            " \n",
            "the AUC is : 0.62\n"
          ]
        },
        {
          "output_type": "display_data",
          "data": {
            "text/plain": [
              "<Figure size 432x288 with 1 Axes>"
            ],
            "image/png": "[encoded data removed]"
          },
          "metadata": {
            "needs_background": "light"
          }
        }
      ]
    },
    {
      "cell_type": "code",
      "source": [
        "print(\"The testing performance of the model\")\n",
        "Performance(Model=lr_model,y=y_test,x=x_test)"
      ],
      "metadata": {
        "colab": {
          "base_uri": "https://localhost:8080/",
          "height": 573
        },
        "id": "Jy_RryympTQ3",
        "outputId": "f496a6b4-b270-490a-db41-5c968fbfc411"
      },
      "execution_count": null,
      "outputs": [
        {
          "output_type": "stream",
          "name": "stdout",
          "text": [
            "The testing performance of the model\n",
            "Accuracy\n",
            "0.5912\n",
            " \n",
            "Classification Report:\n",
            "              precision    recall  f1-score   support\n",
            "\n",
            "         0.0       0.86      0.59      0.70      4558\n",
            "         1.0       0.26      0.60      0.36      1073\n",
            "\n",
            "    accuracy                           0.59      5631\n",
            "   macro avg       0.56      0.59      0.53      5631\n",
            "weighted avg       0.75      0.59      0.63      5631\n",
            "\n",
            " \n",
            "the AUC is : 0.59\n"
          ]
        },
        {
          "output_type": "display_data",
          "data": {
            "text/plain": [
              "<Figure size 432x288 with 1 Axes>"
            ],
            "image/png": "[encoded data removed]"
          },
          "metadata": {
            "needs_background": "light"
          }
        }
      ]
    },
    {
      "cell_type": "code",
      "source": [
        "def metrics(Model,y,x):\n",
        "  \n",
        "  metrics = pd.DataFrame(index=['accuracy','precision','recall','f1_score'],columns=['LogisticReg'])\n",
        "  metrics.loc['accuracy','LogisticReg'] = accuracy_score(y,Model.predict(x).round()).round(4)\n",
        "  metrics.loc['precision','LogisticReg'] = precision_score(y,Model.predict(x).round()).round(4)\n",
        "  metrics.loc['recall','LogisticReg'] = recall_score(y,Model.predict(x).round()).round(4)\n",
        "  metrics.loc['f1_score','LogisticReg'] = f1_score(y,Model.predict(x).round()).round(4)\n",
        "\n",
        "  return metrics"
      ],
      "metadata": {
        "id": "UxniWkV5z6a3"
      },
      "execution_count": null,
      "outputs": []
    },
    {
      "cell_type": "code",
      "source": [
        "def ConfusionMatrix(Model,y,x):\n",
        "  cm = confusion_matrix(y,Model.predict(x).round()).round(4)\n",
        "  sns.heatmap(pd.DataFrame(cm), annot=True, cmap=\"YlGnBu\", fmt='g')\n",
        "  plt.xlabel('Actual Label')\n",
        "  plt.ylabel('Predicted Label')\n",
        " \n",
        "  "
      ],
      "metadata": {
        "id": "prVXvIsyx3es"
      },
      "execution_count": null,
      "outputs": []
    },
    {
      "cell_type": "code",
      "source": [
        "ConfusionMatrix(Model=lr_model,y=y_test,x=x_test)"
      ],
      "metadata": {
        "colab": {
          "base_uri": "https://localhost:8080/",
          "height": 279
        },
        "id": "KOtKcoNiyU6L",
        "outputId": "00f67121-2ffa-4ab2-e0e0-ce31839855bc"
      },
      "execution_count": null,
      "outputs": [
        {
          "output_type": "display_data",
          "data": {
            "text/plain": [
              "<Figure size 432x288 with 2 Axes>"
            ],
            "image/png": "[encoded data removed]"
          },
          "metadata": {
            "needs_background": "light"
          }
        }
      ]
    },
    {
      "cell_type": "code",
      "source": [
        "round(100*metrics(Model=lr_model,y=y_test,x=x_test),4)"
      ],
      "metadata": {
        "colab": {
          "base_uri": "https://localhost:8080/",
          "height": 175
        },
        "id": "cOsSOqURu0Vb",
        "outputId": "ca87673b-6fda-4345-9d16-b5925502dffc"
      },
      "execution_count": null,
      "outputs": [
        {
          "output_type": "execute_result",
          "data": {
            "text/plain": [
              "          LogisticReg\n",
              "accuracy        59.12\n",
              "precision       25.59\n",
              "recall          60.02\n",
              "f1_score        35.88"
            ],
            "text/html": [
              "\n",
              "  <div id=\"df-250cd9ce-76b0-41d6-8bea-53cf5862b2b8\">\n",
              "    <div class=\"colab-df-container\">\n",
              "      <div>\n",
              "<style scoped>\n",
              "    .dataframe tbody tr th:only-of-type {\n",
              "        vertical-align: middle;\n",
              "    }\n",
              "\n",
              "    .dataframe tbody tr th {\n",
              "        vertical-align: top;\n",
              "    }\n",
              "\n",
              "    .dataframe thead th {\n",
              "        text-align: right;\n",
              "    }\n",
              "</style>\n",
              "<table border=\"1\" class=\"dataframe\">\n",
              "  <thead>\n",
              "    <tr style=\"text-align: right;\">\n",
              "      <th></th>\n",
              "      <th>LogisticReg</th>\n",
              "    </tr>\n",
              "  </thead>\n",
              "  <tbody>\n",
              "    <tr>\n",
              "      <th>accuracy</th>\n",
              "      <td>59.12</td>\n",
              "    </tr>\n",
              "    <tr>\n",
              "      <th>precision</th>\n",
              "      <td>25.59</td>\n",
              "    </tr>\n",
              "    <tr>\n",
              "      <th>recall</th>\n",
              "      <td>60.02</td>\n",
              "    </tr>\n",
              "    <tr>\n",
              "      <th>f1_score</th>\n",
              "      <td>35.88</td>\n",
              "    </tr>\n",
              "  </tbody>\n",
              "</table>\n",
              "</div>\n",
              "      <button class=\"colab-df-convert\" onclick=\"convertToInteractive('df-250cd9ce-76b0-41d6-8bea-53cf5862b2b8')\"\n",
              "              title=\"Convert this dataframe to an interactive table.\"\n",
              "              style=\"display:none;\">\n",
              "        \n",
              "  <svg xmlns=\"http://www.w3.org/2000/svg\" height=\"24px\"viewBox=\"0 0 24 24\"\n",
              "       width=\"24px\">\n",
              "    <path d=\"M0 0h24v24H0V0z\" fill=\"none\"/>\n",
              "    <path d=\"M18.56 5.44l.94 2.06.94-2.06 2.06-.94-2.06-.94-.94-2.06-.94 2.06-2.06.94zm-11 1L8.5 8.5l.94-2.06 2.06-.94-2.06-.94L8.5 2.5l-.94 2.06-2.06.94zm10 10l.94 2.06.94-2.06 2.06-.94-2.06-.94-.94-2.06-.94 2.06-2.06.94z\"/><path d=\"M17.41 7.96l-1.37-1.37c-.4-.4-.92-.59-1.43-.59-.52 0-1.04.2-1.43.59L10.3 9.45l-7.72 7.72c-.78.78-.78 2.05 0 2.83L4 21.41c.39.39.9.59 1.41.59.51 0 1.02-.2 1.41-.59l7.78-7.78 2.81-2.81c.8-.78.8-2.07 0-2.86zM5.41 20L4 18.59l7.72-7.72 1.47 1.35L5.41 20z\"/>\n",
              "  </svg>\n",
              "      </button>\n",
              "      \n",
              "  <style>\n",
              "    .colab-df-container {\n",
              "      display:flex;\n",
              "      flex-wrap:wrap;\n",
              "      gap: 12px;\n",
              "    }\n",
              "\n",
              "    .colab-df-convert {\n",
              "      background-color: #E8F0FE;\n",
              "      border: none;\n",
              "      border-radius: 50%;\n",
              "      cursor: pointer;\n",
              "      display: none;\n",
              "      fill: #1967D2;\n",
              "      height: 32px;\n",
              "      padding: 0 0 0 0;\n",
              "      width: 32px;\n",
              "    }\n",
              "\n",
              "    .colab-df-convert:hover {\n",
              "      background-color: #E2EBFA;\n",
              "      box-shadow: 0px 1px 2px rgba(60, 64, 67, 0.3), 0px 1px 3px 1px rgba(60, 64, 67, 0.15);\n",
              "      fill: #174EA6;\n",
              "    }\n",
              "\n",
              "    [theme=dark] .colab-df-convert {\n",
              "      background-color: #3B4455;\n",
              "      fill: #D2E3FC;\n",
              "    }\n",
              "\n",
              "    [theme=dark] .colab-df-convert:hover {\n",
              "      background-color: #434B5C;\n",
              "      box-shadow: 0px 1px 3px 1px rgba(0, 0, 0, 0.15);\n",
              "      filter: drop-shadow(0px 1px 2px rgba(0, 0, 0, 0.3));\n",
              "      fill: #FFFFFF;\n",
              "    }\n",
              "  </style>\n",
              "\n",
              "      <script>\n",
              "        const buttonEl =\n",
              "          document.querySelector('#df-250cd9ce-76b0-41d6-8bea-53cf5862b2b8 button.colab-df-convert');\n",
              "        buttonEl.style.display =\n",
              "          google.colab.kernel.accessAllowed ? 'block' : 'none';\n",
              "\n",
              "        async function convertToInteractive(key) {\n",
              "          const element = document.querySelector('#df-250cd9ce-76b0-41d6-8bea-53cf5862b2b8');\n",
              "          const dataTable =\n",
              "            await google.colab.kernel.invokeFunction('convertToInteractive',\n",
              "                                                     [key], {});\n",
              "          if (!dataTable) return;\n",
              "\n",
              "          const docLinkHtml = 'Like what you see? Visit the ' +\n",
              "            '<a target=\"_blank\" href=https://colab.research.google.com/notebooks/data_table.ipynb>data table notebook</a>'\n",
              "            + ' to learn more about interactive tables.';\n",
              "          element.innerHTML = '';\n",
              "          dataTable['output_type'] = 'display_data';\n",
              "          await google.colab.output.renderOutput(dataTable, element);\n",
              "          const docLink = document.createElement('div');\n",
              "          docLink.innerHTML = docLinkHtml;\n",
              "          element.appendChild(docLink);\n",
              "        }\n",
              "      </script>\n",
              "    </div>\n",
              "  </div>\n",
              "  "
            ]
          },
          "metadata": {},
          "execution_count": 27
        }
      ]
    },
    {
      "cell_type": "markdown",
      "metadata": {
        "id": "sGdtkqHcowBz"
      },
      "source": [
        "###**Decision Tree Classifier**"
      ]
    },
    {
      "cell_type": "code",
      "source": [
        "dt_grid = {'max_leaf_nodes': list(range(2, 100)), 'min_samples_split': [2, 3, 4]}\n",
        "\n",
        "def build_dt_classifier(grid, cv, y, x):\n",
        "    dt=DecisionTreeClassifier()\n",
        "    grid_search = GridSearchCV(dt, grid, n_jobs=-1, cv=cv, verbose=10,scoring='roc_auc')\n",
        "    grid_search.fit(x,y)\n",
        "    return grid_search\n",
        "    \n",
        "dt_model = build_dt_classifier(dt_grid,5,y_res, x_res)"
      ],
      "metadata": {
        "colab": {
          "base_uri": "https://localhost:8080/"
        },
        "id": "vGAgHPwY1fSR",
        "outputId": "28497df1-c17c-4497-89d4-4f6e983fc89f"
      },
      "execution_count": null,
      "outputs": [
        {
          "output_type": "stream",
          "name": "stdout",
          "text": [
            "Fitting 5 folds for each of 294 candidates, totalling 1470 fits\n"
          ]
        }
      ]
    },
    {
      "cell_type": "code",
      "source": [
        "print(\"The training performance of the model\")\n",
        "Performance(Model=dt_model,y=y_res,x=x_res)"
      ],
      "metadata": {
        "colab": {
          "base_uri": "https://localhost:8080/",
          "height": 573
        },
        "id": "ee0USnjM5Iha",
        "outputId": "5732133a-f37b-47a0-ba69-4b7989113fcb"
      },
      "execution_count": null,
      "outputs": [
        {
          "output_type": "stream",
          "name": "stdout",
          "text": [
            "The training performance of the model\n",
            "Accuracy\n",
            "0.8223\n",
            " \n",
            "Classification Report:\n",
            "              precision    recall  f1-score   support\n",
            "\n",
            "         0.0       0.76      0.95      0.84     10440\n",
            "         1.0       0.94      0.69      0.80     10440\n",
            "\n",
            "    accuracy                           0.82     20880\n",
            "   macro avg       0.85      0.82      0.82     20880\n",
            "weighted avg       0.85      0.82      0.82     20880\n",
            "\n",
            " \n",
            "the AUC is : 0.82\n"
          ]
        },
        {
          "output_type": "display_data",
          "data": {
            "text/plain": [
              "<Figure size 432x288 with 1 Axes>"
            ],
            "image/png": "[encoded data removed]"
          },
          "metadata": {
            "needs_background": "light"
          }
        }
      ]
    },
    {
      "cell_type": "code",
      "source": [
        "print(\"The testing performance of the model\")\n",
        "Performance(Model=dt_model,y=y_test,x=x_test)"
      ],
      "metadata": {
        "colab": {
          "base_uri": "https://localhost:8080/",
          "height": 573
        },
        "id": "WcQ1jyCf5NW0",
        "outputId": "5bd214cf-d973-45b9-9215-80495672dc30"
      },
      "execution_count": null,
      "outputs": [
        {
          "output_type": "stream",
          "name": "stdout",
          "text": [
            "The testing performance of the model\n",
            "Accuracy\n",
            "0.7887\n",
            " \n",
            "Classification Report:\n",
            "              precision    recall  f1-score   support\n",
            "\n",
            "         0.0       0.82      0.94      0.88      4558\n",
            "         1.0       0.35      0.13      0.18      1073\n",
            "\n",
            "    accuracy                           0.79      5631\n",
            "   macro avg       0.58      0.54      0.53      5631\n",
            "weighted avg       0.73      0.79      0.75      5631\n",
            "\n",
            " \n",
            "the AUC is : 0.54\n"
          ]
        },
        {
          "output_type": "display_data",
          "data": {
            "text/plain": [
              "<Figure size 432x288 with 1 Axes>"
            ],
            "image/png": "[encoded data removed]"
          },
          "metadata": {
            "needs_background": "light"
          }
        }
      ]
    },
    {
      "cell_type": "code",
      "source": [
        "def metricsDT(Model,y,x):\n",
        "  \n",
        "  metrics = pd.DataFrame(index=['accuracy','precision','recall','f1_score'],columns=['DecisionTree'])\n",
        "  metrics.loc['accuracy','DecisionTree'] = accuracy_score(y,Model.predict(x).round()).round(4)\n",
        "  metrics.loc['precision','DecisionTree'] = precision_score(y,Model.predict(x).round()).round(4)\n",
        "  metrics.loc['recall','DecisionTree'] = recall_score(y,Model.predict(x).round()).round(4)\n",
        "  metrics.loc['f1_score','DecisionTree'] = f1_score(y,Model.predict(x).round()).round(4)\n",
        "\n",
        "  return metrics"
      ],
      "metadata": {
        "id": "qQD2EMsQ5qXu"
      },
      "execution_count": null,
      "outputs": []
    },
    {
      "cell_type": "code",
      "source": [
        "ConfusionMatrix(Model=dt_model,y=y_test,x=x_test)"
      ],
      "metadata": {
        "colab": {
          "base_uri": "https://localhost:8080/",
          "height": 279
        },
        "id": "VI-2ecq458AP",
        "outputId": "2bb2d9a5-efe4-4c90-b7d8-6210c8ad476e"
      },
      "execution_count": null,
      "outputs": [
        {
          "output_type": "display_data",
          "data": {
            "text/plain": [
              "<Figure size 432x288 with 2 Axes>"
            ],
            "image/png": "[encoded data removed]"
          },
          "metadata": {
            "needs_background": "light"
          }
        }
      ]
    },
    {
      "cell_type": "code",
      "source": [
        "round(100*metricsDT(Model=dt_model,y=y_test,x=x_test),4)"
      ],
      "metadata": {
        "colab": {
          "base_uri": "https://localhost:8080/",
          "height": 175
        },
        "id": "kA1t6qIn5-MB",
        "outputId": "c2a6102e-95d1-41a0-fdc7-20d722ca759b"
      },
      "execution_count": null,
      "outputs": [
        {
          "output_type": "execute_result",
          "data": {
            "text/plain": [
              "          DecisionTree\n",
              "accuracy         78.87\n",
              "precision        34.88\n",
              "recall           12.58\n",
              "f1_score         18.49"
            ],
            "text/html": [
              "\n",
              "  <div id=\"df-d5e66d31-23a7-4e67-a9ee-52459e8fed04\">\n",
              "    <div class=\"colab-df-container\">\n",
              "      <div>\n",
              "<style scoped>\n",
              "    .dataframe tbody tr th:only-of-type {\n",
              "        vertical-align: middle;\n",
              "    }\n",
              "\n",
              "    .dataframe tbody tr th {\n",
              "        vertical-align: top;\n",
              "    }\n",
              "\n",
              "    .dataframe thead th {\n",
              "        text-align: right;\n",
              "    }\n",
              "</style>\n",
              "<table border=\"1\" class=\"dataframe\">\n",
              "  <thead>\n",
              "    <tr style=\"text-align: right;\">\n",
              "      <th></th>\n",
              "      <th>DecisionTree</th>\n",
              "    </tr>\n",
              "  </thead>\n",
              "  <tbody>\n",
              "    <tr>\n",
              "      <th>accuracy</th>\n",
              "      <td>78.87</td>\n",
              "    </tr>\n",
              "    <tr>\n",
              "      <th>precision</th>\n",
              "      <td>34.88</td>\n",
              "    </tr>\n",
              "    <tr>\n",
              "      <th>recall</th>\n",
              "      <td>12.58</td>\n",
              "    </tr>\n",
              "    <tr>\n",
              "      <th>f1_score</th>\n",
              "      <td>18.49</td>\n",
              "    </tr>\n",
              "  </tbody>\n",
              "</table>\n",
              "</div>\n",
              "      <button class=\"colab-df-convert\" onclick=\"convertToInteractive('df-d5e66d31-23a7-4e67-a9ee-52459e8fed04')\"\n",
              "              title=\"Convert this dataframe to an interactive table.\"\n",
              "              style=\"display:none;\">\n",
              "        \n",
              "  <svg xmlns=\"http://www.w3.org/2000/svg\" height=\"24px\"viewBox=\"0 0 24 24\"\n",
              "       width=\"24px\">\n",
              "    <path d=\"M0 0h24v24H0V0z\" fill=\"none\"/>\n",
              "    <path d=\"M18.56 5.44l.94 2.06.94-2.06 2.06-.94-2.06-.94-.94-2.06-.94 2.06-2.06.94zm-11 1L8.5 8.5l.94-2.06 2.06-.94-2.06-.94L8.5 2.5l-.94 2.06-2.06.94zm10 10l.94 2.06.94-2.06 2.06-.94-2.06-.94-.94-2.06-.94 2.06-2.06.94z\"/><path d=\"M17.41 7.96l-1.37-1.37c-.4-.4-.92-.59-1.43-.59-.52 0-1.04.2-1.43.59L10.3 9.45l-7.72 7.72c-.78.78-.78 2.05 0 2.83L4 21.41c.39.39.9.59 1.41.59.51 0 1.02-.2 1.41-.59l7.78-7.78 2.81-2.81c.8-.78.8-2.07 0-2.86zM5.41 20L4 18.59l7.72-7.72 1.47 1.35L5.41 20z\"/>\n",
              "  </svg>\n",
              "      </button>\n",
              "      \n",
              "  <style>\n",
              "    .colab-df-container {\n",
              "      display:flex;\n",
              "      flex-wrap:wrap;\n",
              "      gap: 12px;\n",
              "    }\n",
              "\n",
              "    .colab-df-convert {\n",
              "      background-color: #E8F0FE;\n",
              "      border: none;\n",
              "      border-radius: 50%;\n",
              "      cursor: pointer;\n",
              "      display: none;\n",
              "      fill: #1967D2;\n",
              "      height: 32px;\n",
              "      padding: 0 0 0 0;\n",
              "      width: 32px;\n",
              "    }\n",
              "\n",
              "    .colab-df-convert:hover {\n",
              "      background-color: #E2EBFA;\n",
              "      box-shadow: 0px 1px 2px rgba(60, 64, 67, 0.3), 0px 1px 3px 1px rgba(60, 64, 67, 0.15);\n",
              "      fill: #174EA6;\n",
              "    }\n",
              "\n",
              "    [theme=dark] .colab-df-convert {\n",
              "      background-color: #3B4455;\n",
              "      fill: #D2E3FC;\n",
              "    }\n",
              "\n",
              "    [theme=dark] .colab-df-convert:hover {\n",
              "      background-color: #434B5C;\n",
              "      box-shadow: 0px 1px 3px 1px rgba(0, 0, 0, 0.15);\n",
              "      filter: drop-shadow(0px 1px 2px rgba(0, 0, 0, 0.3));\n",
              "      fill: #FFFFFF;\n",
              "    }\n",
              "  </style>\n",
              "\n",
              "      <script>\n",
              "        const buttonEl =\n",
              "          document.querySelector('#df-d5e66d31-23a7-4e67-a9ee-52459e8fed04 button.colab-df-convert');\n",
              "        buttonEl.style.display =\n",
              "          google.colab.kernel.accessAllowed ? 'block' : 'none';\n",
              "\n",
              "        async function convertToInteractive(key) {\n",
              "          const element = document.querySelector('#df-d5e66d31-23a7-4e67-a9ee-52459e8fed04');\n",
              "          const dataTable =\n",
              "            await google.colab.kernel.invokeFunction('convertToInteractive',\n",
              "                                                     [key], {});\n",
              "          if (!dataTable) return;\n",
              "\n",
              "          const docLinkHtml = 'Like what you see? Visit the ' +\n",
              "            '<a target=\"_blank\" href=https://colab.research.google.com/notebooks/data_table.ipynb>data table notebook</a>'\n",
              "            + ' to learn more about interactive tables.';\n",
              "          element.innerHTML = '';\n",
              "          dataTable['output_type'] = 'display_data';\n",
              "          await google.colab.output.renderOutput(dataTable, element);\n",
              "          const docLink = document.createElement('div');\n",
              "          docLink.innerHTML = docLinkHtml;\n",
              "          element.appendChild(docLink);\n",
              "        }\n",
              "      </script>\n",
              "    </div>\n",
              "  </div>\n",
              "  "
            ]
          },
          "metadata": {},
          "execution_count": 33
        }
      ]
    },
    {
      "cell_type": "markdown",
      "source": [
        "### **Random Forest**"
      ],
      "metadata": {
        "id": "ZOrsnn6m8Ie8"
      }
    },
    {
      "cell_type": "code",
      "source": [
        "def RandomForest(grid, cv, y, x):\n",
        "    rf=RandomForestClassifier(n_estimators=1000, min_samples_split=10, min_samples_leaf=1,\n",
        "           max_features='auto', max_leaf_nodes=None,\n",
        "           oob_score=True, n_jobs=-1, random_state=1)\n",
        "    grid_search = GridSearchCV(rf, grid, n_jobs=-1, cv=cv, verbose=10, scoring='roc_auc')\n",
        "    grid_search.fit(x, y)\n",
        "    return grid_search"
      ],
      "metadata": {
        "id": "jh-Vpiyq7Isn"
      },
      "execution_count": null,
      "outputs": []
    },
    {
      "cell_type": "code",
      "source": [
        "rf_grid = {    \n",
        "            \"n_estimators\"      : [50,100,200],\n",
        "            \"max_features\"      : ['auto'],\n",
        "            \"max_depth\"         : [20,50],\n",
        "            \"min_samples_split\" : [0.1,0.15,0.2],\n",
        "            \"class_weight\"      : [{1:1.35}],\n",
        "            \"oob_score\"         : [True, False],\n",
        "            \"bootstrap\"         : [True, False],\n",
        "            \"criterion\"         : [\"gini\"]\n",
        "}\n"
      ],
      "metadata": {
        "id": "gGSWAg6O7HMT"
      },
      "execution_count": null,
      "outputs": []
    },
    {
      "cell_type": "code",
      "source": [
        "rf_model = RandomForest(rf_grid,5,y_res,x_res)"
      ],
      "metadata": {
        "colab": {
          "base_uri": "https://localhost:8080/"
        },
        "id": "upSmFfYx7OPB",
        "outputId": "9d552551-6a8f-4aba-e088-06b7db0fff30"
      },
      "execution_count": null,
      "outputs": [
        {
          "output_type": "stream",
          "name": "stdout",
          "text": [
            "Fitting 5 folds for each of 72 candidates, totalling 360 fits\n"
          ]
        }
      ]
    },
    {
      "cell_type": "code",
      "source": [
        "print(\"The best paramters\")\n",
        "print(rf_model.best_params_)"
      ],
      "metadata": {
        "colab": {
          "base_uri": "https://localhost:8080/"
        },
        "id": "F92l11BBLKZZ",
        "outputId": "b9787bde-842f-479e-ca49-92368700d232"
      },
      "execution_count": null,
      "outputs": [
        {
          "output_type": "stream",
          "name": "stdout",
          "text": [
            "The best paramters\n",
            "{'bootstrap': False, 'class_weight': {1: 1.35}, 'criterion': 'gini', 'max_depth': 20, 'max_features': 'auto', 'min_samples_split': 0.1, 'n_estimators': 200, 'oob_score': False}\n"
          ]
        }
      ]
    },
    {
      "cell_type": "code",
      "source": [
        "print(\"The training performance of the model\")\n",
        "Performance(Model=rf_model,y=y_res,x=x_res)"
      ],
      "metadata": {
        "colab": {
          "base_uri": "https://localhost:8080/",
          "height": 573
        },
        "id": "17qlcxTK7c8k",
        "outputId": "40139a27-4781-4b3c-e8a3-fdf6f7a01ac9"
      },
      "execution_count": null,
      "outputs": [
        {
          "output_type": "stream",
          "name": "stdout",
          "text": [
            "The training performance of the model\n",
            "Accuracy\n",
            "0.8129\n",
            " \n",
            "Classification Report:\n",
            "              precision    recall  f1-score   support\n",
            "\n",
            "         0.0       0.83      0.79      0.81     10440\n",
            "         1.0       0.80      0.84      0.82     10440\n",
            "\n",
            "    accuracy                           0.81     20880\n",
            "   macro avg       0.81      0.81      0.81     20880\n",
            "weighted avg       0.81      0.81      0.81     20880\n",
            "\n",
            " \n",
            "the AUC is : 0.81\n"
          ]
        },
        {
          "output_type": "display_data",
          "data": {
            "text/plain": [
              "<Figure size 432x288 with 1 Axes>"
            ],
            "image/png": "[encoded data removed]"
          },
          "metadata": {
            "needs_background": "light"
          }
        }
      ]
    },
    {
      "cell_type": "code",
      "source": [
        "print(\"The testing performance of the model\")\n",
        "Performance(Model=rf_model,y=y_test,x=x_test)"
      ],
      "metadata": {
        "colab": {
          "base_uri": "https://localhost:8080/",
          "height": 573
        },
        "id": "UN2k3ksC7mGi",
        "outputId": "e40fdffa-3ff4-48ad-f7ea-1ae0bee50df9"
      },
      "execution_count": null,
      "outputs": [
        {
          "output_type": "stream",
          "name": "stdout",
          "text": [
            "The testing performance of the model\n",
            "Accuracy\n",
            "0.7125\n",
            " \n",
            "Classification Report:\n",
            "              precision    recall  f1-score   support\n",
            "\n",
            "         0.0       0.85      0.78      0.82      4558\n",
            "         1.0       0.31      0.41      0.35      1073\n",
            "\n",
            "    accuracy                           0.71      5631\n",
            "   macro avg       0.58      0.60      0.58      5631\n",
            "weighted avg       0.75      0.71      0.73      5631\n",
            "\n",
            " \n",
            "the AUC is : 0.60\n"
          ]
        },
        {
          "output_type": "display_data",
          "data": {
            "text/plain": [
              "<Figure size 432x288 with 1 Axes>"
            ],
            "image/png": "[encoded data removed]"
          },
          "metadata": {
            "needs_background": "light"
          }
        }
      ]
    },
    {
      "cell_type": "code",
      "source": [
        "def metricsRF(Model,y,x):\n",
        "  \n",
        "  metrics = pd.DataFrame(index=['accuracy','precision','recall','f1_score'],columns=['RandomForest'])\n",
        "  metrics.loc['accuracy','RandomForest'] = accuracy_score(y,Model.predict(x).round()).round(4)\n",
        "  metrics.loc['precision','RandomForest'] = precision_score(y,Model.predict(x).round()).round(4)\n",
        "  metrics.loc['recall','RandomForest'] = recall_score(y,Model.predict(x).round()).round(4)\n",
        "  metrics.loc['f1_score','RandomForest'] = f1_score(y,Model.predict(x).round()).round(4)\n",
        "\n",
        "  return metrics"
      ],
      "metadata": {
        "id": "wItyp023plCn"
      },
      "execution_count": null,
      "outputs": []
    },
    {
      "cell_type": "code",
      "source": [
        "def ConfusionMatrix(Model,y,x):\n",
        "  cm = confusion_matrix(y,Model.predict(x).round()).round(4)\n",
        "  \n",
        "  sns.heatmap(pd.DataFrame(cm), annot=True, cmap=\"YlGnBu\", fmt='g')\n",
        "  plt.xlabel('Actual Label')\n",
        "  plt.ylabel('Predicted Label')\n",
        "  "
      ],
      "metadata": {
        "id": "9uYOGD8zp1_f"
      },
      "execution_count": null,
      "outputs": []
    },
    {
      "cell_type": "code",
      "source": [
        "ConfusionMatrix(Model=rf_model,y=y_test,x=x_test)"
      ],
      "metadata": {
        "colab": {
          "base_uri": "https://localhost:8080/",
          "height": 279
        },
        "id": "SbID_VeRp_ga",
        "outputId": "6623752f-4a1a-40d4-967f-e7cbf96c469a"
      },
      "execution_count": null,
      "outputs": [
        {
          "output_type": "display_data",
          "data": {
            "text/plain": [
              "<Figure size 432x288 with 2 Axes>"
            ],
            "image/png": "[encoded data removed]"
          },
          "metadata": {
            "needs_background": "light"
          }
        }
      ]
    },
    {
      "cell_type": "code",
      "source": [
        "round(100*metricsRF(Model=rf_model,y=y_test,x=x_test),4)"
      ],
      "metadata": {
        "colab": {
          "base_uri": "https://localhost:8080/",
          "height": 175
        },
        "id": "DY9d61dhqP8_",
        "outputId": "0e697bd3-a427-47d8-8c8f-10624cdb199f"
      },
      "execution_count": null,
      "outputs": [
        {
          "output_type": "execute_result",
          "data": {
            "text/plain": [
              "          RandomForest\n",
              "accuracy         71.25\n",
              "precision        30.91\n",
              "recall           41.19\n",
              "f1_score         35.32"
            ],
            "text/html": [
              "\n",
              "  <div id=\"df-87c72af9-e110-47a2-ab25-83c4dbf94018\">\n",
              "    <div class=\"colab-df-container\">\n",
              "      <div>\n",
              "<style scoped>\n",
              "    .dataframe tbody tr th:only-of-type {\n",
              "        vertical-align: middle;\n",
              "    }\n",
              "\n",
              "    .dataframe tbody tr th {\n",
              "        vertical-align: top;\n",
              "    }\n",
              "\n",
              "    .dataframe thead th {\n",
              "        text-align: right;\n",
              "    }\n",
              "</style>\n",
              "<table border=\"1\" class=\"dataframe\">\n",
              "  <thead>\n",
              "    <tr style=\"text-align: right;\">\n",
              "      <th></th>\n",
              "      <th>RandomForest</th>\n",
              "    </tr>\n",
              "  </thead>\n",
              "  <tbody>\n",
              "    <tr>\n",
              "      <th>accuracy</th>\n",
              "      <td>71.25</td>\n",
              "    </tr>\n",
              "    <tr>\n",
              "      <th>precision</th>\n",
              "      <td>30.91</td>\n",
              "    </tr>\n",
              "    <tr>\n",
              "      <th>recall</th>\n",
              "      <td>41.19</td>\n",
              "    </tr>\n",
              "    <tr>\n",
              "      <th>f1_score</th>\n",
              "      <td>35.32</td>\n",
              "    </tr>\n",
              "  </tbody>\n",
              "</table>\n",
              "</div>\n",
              "      <button class=\"colab-df-convert\" onclick=\"convertToInteractive('df-87c72af9-e110-47a2-ab25-83c4dbf94018')\"\n",
              "              title=\"Convert this dataframe to an interactive table.\"\n",
              "              style=\"display:none;\">\n",
              "        \n",
              "  <svg xmlns=\"http://www.w3.org/2000/svg\" height=\"24px\"viewBox=\"0 0 24 24\"\n",
              "       width=\"24px\">\n",
              "    <path d=\"M0 0h24v24H0V0z\" fill=\"none\"/>\n",
              "    <path d=\"M18.56 5.44l.94 2.06.94-2.06 2.06-.94-2.06-.94-.94-2.06-.94 2.06-2.06.94zm-11 1L8.5 8.5l.94-2.06 2.06-.94-2.06-.94L8.5 2.5l-.94 2.06-2.06.94zm10 10l.94 2.06.94-2.06 2.06-.94-2.06-.94-.94-2.06-.94 2.06-2.06.94z\"/><path d=\"M17.41 7.96l-1.37-1.37c-.4-.4-.92-.59-1.43-.59-.52 0-1.04.2-1.43.59L10.3 9.45l-7.72 7.72c-.78.78-.78 2.05 0 2.83L4 21.41c.39.39.9.59 1.41.59.51 0 1.02-.2 1.41-.59l7.78-7.78 2.81-2.81c.8-.78.8-2.07 0-2.86zM5.41 20L4 18.59l7.72-7.72 1.47 1.35L5.41 20z\"/>\n",
              "  </svg>\n",
              "      </button>\n",
              "      \n",
              "  <style>\n",
              "    .colab-df-container {\n",
              "      display:flex;\n",
              "      flex-wrap:wrap;\n",
              "      gap: 12px;\n",
              "    }\n",
              "\n",
              "    .colab-df-convert {\n",
              "      background-color: #E8F0FE;\n",
              "      border: none;\n",
              "      border-radius: 50%;\n",
              "      cursor: pointer;\n",
              "      display: none;\n",
              "      fill: #1967D2;\n",
              "      height: 32px;\n",
              "      padding: 0 0 0 0;\n",
              "      width: 32px;\n",
              "    }\n",
              "\n",
              "    .colab-df-convert:hover {\n",
              "      background-color: #E2EBFA;\n",
              "      box-shadow: 0px 1px 2px rgba(60, 64, 67, 0.3), 0px 1px 3px 1px rgba(60, 64, 67, 0.15);\n",
              "      fill: #174EA6;\n",
              "    }\n",
              "\n",
              "    [theme=dark] .colab-df-convert {\n",
              "      background-color: #3B4455;\n",
              "      fill: #D2E3FC;\n",
              "    }\n",
              "\n",
              "    [theme=dark] .colab-df-convert:hover {\n",
              "      background-color: #434B5C;\n",
              "      box-shadow: 0px 1px 3px 1px rgba(0, 0, 0, 0.15);\n",
              "      filter: drop-shadow(0px 1px 2px rgba(0, 0, 0, 0.3));\n",
              "      fill: #FFFFFF;\n",
              "    }\n",
              "  </style>\n",
              "\n",
              "      <script>\n",
              "        const buttonEl =\n",
              "          document.querySelector('#df-87c72af9-e110-47a2-ab25-83c4dbf94018 button.colab-df-convert');\n",
              "        buttonEl.style.display =\n",
              "          google.colab.kernel.accessAllowed ? 'block' : 'none';\n",
              "\n",
              "        async function convertToInteractive(key) {\n",
              "          const element = document.querySelector('#df-87c72af9-e110-47a2-ab25-83c4dbf94018');\n",
              "          const dataTable =\n",
              "            await google.colab.kernel.invokeFunction('convertToInteractive',\n",
              "                                                     [key], {});\n",
              "          if (!dataTable) return;\n",
              "\n",
              "          const docLinkHtml = 'Like what you see? Visit the ' +\n",
              "            '<a target=\"_blank\" href=https://colab.research.google.com/notebooks/data_table.ipynb>data table notebook</a>'\n",
              "            + ' to learn more about interactive tables.';\n",
              "          element.innerHTML = '';\n",
              "          dataTable['output_type'] = 'display_data';\n",
              "          await google.colab.output.renderOutput(dataTable, element);\n",
              "          const docLink = document.createElement('div');\n",
              "          docLink.innerHTML = docLinkHtml;\n",
              "          element.appendChild(docLink);\n",
              "        }\n",
              "      </script>\n",
              "    </div>\n",
              "  </div>\n",
              "  "
            ]
          },
          "metadata": {},
          "execution_count": 42
        }
      ]
    },
    {
      "cell_type": "markdown",
      "metadata": {
        "id": "D5ZG3I5p92cC"
      },
      "source": [
        "###**XGBClassifier**"
      ]
    },
    {
      "cell_type": "code",
      "source": [
        "def XGBoost(grid, cv, y, x):\n",
        "    xgb=XGBClassifier(objective='binary:logistic',\n",
        "                    silent=True, nthread=1)\n",
        "    grid_search = GridSearchCV(xgb, grid, n_jobs=-1, cv=cv, verbose=10, scoring='roc_auc')\n",
        "    grid_search.fit(y,x)\n",
        "    return grid_search"
      ],
      "metadata": {
        "id": "2P5LfabP9D56"
      },
      "execution_count": null,
      "outputs": []
    },
    {
      "cell_type": "code",
      "source": [
        "xgb_grid = {'colsample_bytree': [0.8],\n",
        "            'eval_metric': ['auc'], \n",
        "            'gamma':[ 0.5], \n",
        "            'learning_rate': [0.05], \n",
        "            'max_depth': [10], \n",
        "            'min_child_weight': [5], \n",
        "            'n_estimators': [100], \n",
        "            'scale_pos_weight':[ 3], \n",
        "            'subsample': [0.8]}"
      ],
      "metadata": {
        "id": "8A5PR9w19C2q"
      },
      "execution_count": null,
      "outputs": []
    },
    {
      "cell_type": "code",
      "source": [
        "xgb_model = XGBoost(xgb_grid,5,x_res,y_res)"
      ],
      "metadata": {
        "colab": {
          "base_uri": "https://localhost:8080/"
        },
        "id": "zeC1JYUU9KCS",
        "outputId": "6e02c1ba-607d-4f93-aa2e-bb19eb7dc1a2"
      },
      "execution_count": null,
      "outputs": [
        {
          "output_type": "stream",
          "name": "stdout",
          "text": [
            "Fitting 5 folds for each of 1 candidates, totalling 5 fits\n"
          ]
        }
      ]
    },
    {
      "cell_type": "code",
      "source": [
        "print(\"The training performance of the model\")\n",
        "Performance(Model=xgb_model,y=y_res,x=x_res)"
      ],
      "metadata": {
        "colab": {
          "base_uri": "https://localhost:8080/",
          "height": 573
        },
        "id": "pP54DrYfSLnj",
        "outputId": "9d35458d-9074-44b3-960e-f00d4457cb4e"
      },
      "execution_count": null,
      "outputs": [
        {
          "output_type": "stream",
          "name": "stdout",
          "text": [
            "The training performance of the model\n",
            "Accuracy\n",
            "0.9354\n",
            " \n",
            "Classification Report:\n",
            "              precision    recall  f1-score   support\n",
            "\n",
            "         0.0       0.98      0.89      0.93     10440\n",
            "         1.0       0.90      0.98      0.94     10440\n",
            "\n",
            "    accuracy                           0.94     20880\n",
            "   macro avg       0.94      0.94      0.94     20880\n",
            "weighted avg       0.94      0.94      0.94     20880\n",
            "\n",
            " \n",
            "the AUC is : 0.94\n"
          ]
        },
        {
          "output_type": "display_data",
          "data": {
            "text/plain": [
              "<Figure size 432x288 with 1 Axes>"
            ],
            "image/png": "[encoded data removed]"
          },
          "metadata": {
            "needs_background": "light"
          }
        }
      ]
    },
    {
      "cell_type": "code",
      "source": [
        "print(\"The testing performance of the model\")\n",
        "Performance(Model=xgb_model,y=y_test,x=x_test)"
      ],
      "metadata": {
        "colab": {
          "base_uri": "https://localhost:8080/",
          "height": 573
        },
        "id": "SWAZaEPZKf6L",
        "outputId": "07d0dc3e-cd2e-45ab-a6d8-d44e5418e0eb"
      },
      "execution_count": null,
      "outputs": [
        {
          "output_type": "stream",
          "name": "stdout",
          "text": [
            "The testing performance of the model\n",
            "Accuracy\n",
            "0.7342\n",
            " \n",
            "Classification Report:\n",
            "              precision    recall  f1-score   support\n",
            "\n",
            "         0.0       0.85      0.81      0.83      4558\n",
            "         1.0       0.34      0.40      0.37      1073\n",
            "\n",
            "    accuracy                           0.73      5631\n",
            "   macro avg       0.59      0.61      0.60      5631\n",
            "weighted avg       0.75      0.73      0.74      5631\n",
            "\n",
            " \n",
            "the AUC is : 0.61\n"
          ]
        },
        {
          "output_type": "display_data",
          "data": {
            "text/plain": [
              "<Figure size 432x288 with 1 Axes>"
            ],
            "image/png": "[encoded data removed]"
          },
          "metadata": {
            "needs_background": "light"
          }
        }
      ]
    },
    {
      "cell_type": "code",
      "source": [
        "ConfusionMatrix(Model=xgb_model,y=y_test,x=x_test)"
      ],
      "metadata": {
        "colab": {
          "base_uri": "https://localhost:8080/",
          "height": 279
        },
        "id": "vPoGxze2SRA3",
        "outputId": "eee8f21e-4d64-4f82-c537-05812a610fda"
      },
      "execution_count": null,
      "outputs": [
        {
          "output_type": "display_data",
          "data": {
            "text/plain": [
              "<Figure size 432x288 with 2 Axes>"
            ],
            "image/png": "[encoded data removed]"
          },
          "metadata": {
            "needs_background": "light"
          }
        }
      ]
    },
    {
      "cell_type": "code",
      "source": [
        "def metricsXGB(Model,y,x):\n",
        "  \n",
        "  metrics = pd.DataFrame(index=['accuracy','precision','recall','f1_score'],columns=['XGB'])\n",
        "  metrics.loc['accuracy','XGB'] = accuracy_score(y,Model.predict(x).round()).round(4)\n",
        "  metrics.loc['precision','XGB'] = precision_score(y,Model.predict(x).round()).round(4)\n",
        "  metrics.loc['recall','XGB'] = recall_score(y,Model.predict(x).round()).round(4)\n",
        "  metrics.loc['f1_score','XGB'] = f1_score(y,Model.predict(x).round()).round(4)\n",
        "\n",
        "  return metrics"
      ],
      "metadata": {
        "id": "V14iNuyqUIlz"
      },
      "execution_count": null,
      "outputs": []
    },
    {
      "cell_type": "code",
      "source": [
        "100*metricsXGB(Model=xgb_model,y=y_test,x=x_test)"
      ],
      "metadata": {
        "colab": {
          "base_uri": "https://localhost:8080/",
          "height": 175
        },
        "id": "KAC4zxSIUSNY",
        "outputId": "14d3597f-fa4f-40e6-f917-e8c44fecf157"
      },
      "execution_count": null,
      "outputs": [
        {
          "output_type": "execute_result",
          "data": {
            "text/plain": [
              "             XGB\n",
              "accuracy   73.42\n",
              "precision  33.57\n",
              "recall     40.35\n",
              "f1_score   36.65"
            ],
            "text/html": [
              "\n",
              "  <div id=\"df-c517d4f4-05dc-4f3d-b4ac-740dad75832c\">\n",
              "    <div class=\"colab-df-container\">\n",
              "      <div>\n",
              "<style scoped>\n",
              "    .dataframe tbody tr th:only-of-type {\n",
              "        vertical-align: middle;\n",
              "    }\n",
              "\n",
              "    .dataframe tbody tr th {\n",
              "        vertical-align: top;\n",
              "    }\n",
              "\n",
              "    .dataframe thead th {\n",
              "        text-align: right;\n",
              "    }\n",
              "</style>\n",
              "<table border=\"1\" class=\"dataframe\">\n",
              "  <thead>\n",
              "    <tr style=\"text-align: right;\">\n",
              "      <th></th>\n",
              "      <th>XGB</th>\n",
              "    </tr>\n",
              "  </thead>\n",
              "  <tbody>\n",
              "    <tr>\n",
              "      <th>accuracy</th>\n",
              "      <td>73.42</td>\n",
              "    </tr>\n",
              "    <tr>\n",
              "      <th>precision</th>\n",
              "      <td>33.57</td>\n",
              "    </tr>\n",
              "    <tr>\n",
              "      <th>recall</th>\n",
              "      <td>40.35</td>\n",
              "    </tr>\n",
              "    <tr>\n",
              "      <th>f1_score</th>\n",
              "      <td>36.65</td>\n",
              "    </tr>\n",
              "  </tbody>\n",
              "</table>\n",
              "</div>\n",
              "      <button class=\"colab-df-convert\" onclick=\"convertToInteractive('df-c517d4f4-05dc-4f3d-b4ac-740dad75832c')\"\n",
              "              title=\"Convert this dataframe to an interactive table.\"\n",
              "              style=\"display:none;\">\n",
              "        \n",
              "  <svg xmlns=\"http://www.w3.org/2000/svg\" height=\"24px\"viewBox=\"0 0 24 24\"\n",
              "       width=\"24px\">\n",
              "    <path d=\"M0 0h24v24H0V0z\" fill=\"none\"/>\n",
              "    <path d=\"M18.56 5.44l.94 2.06.94-2.06 2.06-.94-2.06-.94-.94-2.06-.94 2.06-2.06.94zm-11 1L8.5 8.5l.94-2.06 2.06-.94-2.06-.94L8.5 2.5l-.94 2.06-2.06.94zm10 10l.94 2.06.94-2.06 2.06-.94-2.06-.94-.94-2.06-.94 2.06-2.06.94z\"/><path d=\"M17.41 7.96l-1.37-1.37c-.4-.4-.92-.59-1.43-.59-.52 0-1.04.2-1.43.59L10.3 9.45l-7.72 7.72c-.78.78-.78 2.05 0 2.83L4 21.41c.39.39.9.59 1.41.59.51 0 1.02-.2 1.41-.59l7.78-7.78 2.81-2.81c.8-.78.8-2.07 0-2.86zM5.41 20L4 18.59l7.72-7.72 1.47 1.35L5.41 20z\"/>\n",
              "  </svg>\n",
              "      </button>\n",
              "      \n",
              "  <style>\n",
              "    .colab-df-container {\n",
              "      display:flex;\n",
              "      flex-wrap:wrap;\n",
              "      gap: 12px;\n",
              "    }\n",
              "\n",
              "    .colab-df-convert {\n",
              "      background-color: #E8F0FE;\n",
              "      border: none;\n",
              "      border-radius: 50%;\n",
              "      cursor: pointer;\n",
              "      display: none;\n",
              "      fill: #1967D2;\n",
              "      height: 32px;\n",
              "      padding: 0 0 0 0;\n",
              "      width: 32px;\n",
              "    }\n",
              "\n",
              "    .colab-df-convert:hover {\n",
              "      background-color: #E2EBFA;\n",
              "      box-shadow: 0px 1px 2px rgba(60, 64, 67, 0.3), 0px 1px 3px 1px rgba(60, 64, 67, 0.15);\n",
              "      fill: #174EA6;\n",
              "    }\n",
              "\n",
              "    [theme=dark] .colab-df-convert {\n",
              "      background-color: #3B4455;\n",
              "      fill: #D2E3FC;\n",
              "    }\n",
              "\n",
              "    [theme=dark] .colab-df-convert:hover {\n",
              "      background-color: #434B5C;\n",
              "      box-shadow: 0px 1px 3px 1px rgba(0, 0, 0, 0.15);\n",
              "      filter: drop-shadow(0px 1px 2px rgba(0, 0, 0, 0.3));\n",
              "      fill: #FFFFFF;\n",
              "    }\n",
              "  </style>\n",
              "\n",
              "      <script>\n",
              "        const buttonEl =\n",
              "          document.querySelector('#df-c517d4f4-05dc-4f3d-b4ac-740dad75832c button.colab-df-convert');\n",
              "        buttonEl.style.display =\n",
              "          google.colab.kernel.accessAllowed ? 'block' : 'none';\n",
              "\n",
              "        async function convertToInteractive(key) {\n",
              "          const element = document.querySelector('#df-c517d4f4-05dc-4f3d-b4ac-740dad75832c');\n",
              "          const dataTable =\n",
              "            await google.colab.kernel.invokeFunction('convertToInteractive',\n",
              "                                                     [key], {});\n",
              "          if (!dataTable) return;\n",
              "\n",
              "          const docLinkHtml = 'Like what you see? Visit the ' +\n",
              "            '<a target=\"_blank\" href=https://colab.research.google.com/notebooks/data_table.ipynb>data table notebook</a>'\n",
              "            + ' to learn more about interactive tables.';\n",
              "          element.innerHTML = '';\n",
              "          dataTable['output_type'] = 'display_data';\n",
              "          await google.colab.output.renderOutput(dataTable, element);\n",
              "          const docLink = document.createElement('div');\n",
              "          docLink.innerHTML = docLinkHtml;\n",
              "          element.appendChild(docLink);\n",
              "        }\n",
              "      </script>\n",
              "    </div>\n",
              "  </div>\n",
              "  "
            ]
          },
          "metadata": {},
          "execution_count": 56
        }
      ]
    },
    {
      "cell_type": "code",
      "source": [
        ""
      ],
      "metadata": {
        "id": "7kLguDz8Ub0X"
      },
      "execution_count": null,
      "outputs": []
    }
  ],
  "metadata": {
    "colab": {
      "collapsed_sections": [],
      "name": "Supervised-Credit Score.ipynb",
      "provenance": []
    },
    "kernelspec": {
      "display_name": "Python 3",
      "name": "python3"
    },
    "language_info": {
      "name": "python"
    },
    "accelerator": "GPU"
  },
  "nbformat": 4,
  "nbformat_minor": 0
}